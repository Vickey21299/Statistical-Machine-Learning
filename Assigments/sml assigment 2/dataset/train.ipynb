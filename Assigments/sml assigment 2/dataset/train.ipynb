{
 "cells": [
  {
   "cell_type": "code",
   "execution_count": 3,
   "metadata": {},
   "outputs": [
    {
     "name": "stdout",
     "output_type": "stream",
     "text": [
      "5923\n"
     ]
    }
   ],
   "source": [
    "import numpy as np\n",
    "import matplotlib.pyplot as plt\n",
    "\n",
    "# Load the x_train.npy file with allow_pickle=True\n",
    "x_train = np.load('x_train.npy', allow_pickle=True).reshape(-1,784)\n",
    "\n",
    "# Load the corresponding labels file\n",
    "labels = np.load('y_train.npy', allow_pickle=True)\n",
    "\n",
    "# Define class names\n",
    "class_names = ['0', '1', '2', '3', '4', '5', '6', '7', '8', '9']\n",
    "\n",
    "# Initialize a dictionary to store indices of samples for each class\n",
    "class_indices = {class_name: [] for class_name in class_names}\n",
    "\n",
    "# Populate the class_indices dictionary\n",
    "for i, label in enumerate(labels):\n",
    "    # print(i ,label)\n",
    "    class_indices[class_names[label]].append(i)\n",
    "print(len(class_indices['0']))\n",
    "# Visualize 5 samples from each class"
   ]
  },
  {
   "cell_type": "code",
   "execution_count": 4,
   "metadata": {},
   "outputs": [
    {
     "name": "stdout",
     "output_type": "stream",
     "text": [
      "(1000, 784)\n",
      "[  0   0   0   0   0   0   0   0   0   0   0   0   0   0   0   0   0   0\n",
      "   0   0   0   0   0   0   0   0   0   0   0   0   0   0   0   0   0   0\n",
      "   0   0   0   0   0   0   0   0   0   0   0   0   0   0   0   0   0   0\n",
      "   0   0   0   0   0   0   0   0   0   0   0   0   0   0   0   0   0   0\n",
      "   0   0   0   0   0   0   0   0   0   0   0   0   0   0   0   0   0   0\n",
      "   0   0   0   0   0   0   0   0   0   0   0   0   0   0   0   0   0   0\n",
      "   0   0   0   0   0   0   0   0   0   0   0   0   0   0   0   0   0   0\n",
      "   0  51 159 253 159  50   0   0   0   0   0   0   0   0   0   0   0   0\n",
      "   0   0   0   0   0   0   0   0   0   0  48 238 252 252 252 237   0   0\n",
      "   0   0   0   0   0   0   0   0   0   0   0   0   0   0   0   0   0   0\n",
      "   0  54 227 253 252 239 233 252  57   6   0   0   0   0   0   0   0   0\n",
      "   0   0   0   0   0   0   0   0   0  10  60 224 252 253 252 202  84 252\n",
      " 253 122   0   0   0   0   0   0   0   0   0   0   0   0   0   0   0   0\n",
      "   0 163 252 252 252 253 252 252  96 189 253 167   0   0   0   0   0   0\n",
      "   0   0   0   0   0   0   0   0   0   0  51 238 253 253 190 114 253 228\n",
      "  47  79 255 168   0   0   0   0   0   0   0   0   0   0   0   0   0   0\n",
      "   0  48 238 252 252 179  12  75 121  21   0   0 253 243  50   0   0   0\n",
      "   0   0   0   0   0   0   0   0   0   0  38 165 253 233 208  84   0   0\n",
      "   0   0   0   0 253 252 165   0   0   0   0   0   0   0   0   0   0   0\n",
      "   0   7 178 252 240  71  19  28   0   0   0   0   0   0 253 252 195   0\n",
      "   0   0   0   0   0   0   0   0   0   0   0  57 252 252  63   0   0   0\n",
      "   0   0   0   0   0   0 253 252 195   0   0   0   0   0   0   0   0   0\n",
      "   0   0   0 198 253 190   0   0   0   0   0   0   0   0   0   0 255 253\n",
      " 196   0   0   0   0   0   0   0   0   0   0   0  76 246 252 112   0   0\n",
      "   0   0   0   0   0   0   0   0 253 252 148   0   0   0   0   0   0   0\n",
      "   0   0   0   0  85 252 230  25   0   0   0   0   0   0   0   0   7 135\n",
      " 253 186  12   0   0   0   0   0   0   0   0   0   0   0  85 252 223   0\n",
      "   0   0   0   0   0   0   0   7 131 252 225  71   0   0   0   0   0   0\n",
      "   0   0   0   0   0   0  85 252 145   0   0   0   0   0   0   0  48 165\n",
      " 252 173   0   0   0   0   0   0   0   0   0   0   0   0   0   0  86 253\n",
      " 225   0   0   0   0   0   0 114 238 253 162   0   0   0   0   0   0   0\n",
      "   0   0   0   0   0   0   0   0  85 252 249 146  48  29  85 178 225 253\n",
      " 223 167  56   0   0   0   0   0   0   0   0   0   0   0   0   0   0   0\n",
      "  85 252 252 252 229 215 252 252 252 196 130   0   0   0   0   0   0   0\n",
      "   0   0   0   0   0   0   0   0   0   0  28 199 252 252 253 252 252 233\n",
      " 145   0   0   0   0   0   0   0   0   0   0   0   0   0   0   0   0   0\n",
      "   0   0   0  25 128 252 253 252 141  37   0   0   0   0   0   0   0   0\n",
      "   0   0   0   0   0   0   0   0   0   0   0   0   0   0   0   0   0   0\n",
      "   0   0   0   0   0   0   0   0   0   0   0   0   0   0   0   0   0   0\n",
      "   0   0   0   0   0   0   0   0   0   0   0   0   0   0   0   0   0   0\n",
      "   0   0   0   0   0   0   0   0   0   0   0   0   0   0   0   0   0   0\n",
      "   0   0   0   0   0   0   0   0   0   0   0   0   0   0   0   0   0   0\n",
      "   0   0   0   0   0   0   0   0   0   0   0   0   0   0   0   0   0   0\n",
      "   0   0   0   0   0   0   0   0   0   0]\n"
     ]
    }
   ],
   "source": [
    "x =[]\n",
    "for value in class_indices.values():\n",
    "    for i in range(100):\n",
    "        x.append(x_train[value[i]])\n",
    "x = np.array(x)\n",
    "print(x.shape)\n",
    "print(x[0])"
   ]
  },
  {
   "cell_type": "code",
   "execution_count": 5,
   "metadata": {},
   "outputs": [
    {
     "name": "stdout",
     "output_type": "stream",
     "text": [
      "(784,)\n",
      "0.0\n"
     ]
    }
   ],
   "source": [
    "mene = np.mean(x, axis=0)\n",
    "print(mene.shape)\n",
    "print(mene[0])"
   ]
  },
  {
   "cell_type": "code",
   "execution_count": null,
   "metadata": {},
   "outputs": [],
   "source": [
    "import numpy as np\n",
    "# Step 1: Remove the mean from the data matrix X\n",
    "X_centered = x - mene\n",
    "# print(X_centered.shape)\n",
    "# print(X_centered)\n",
    "# Step 1: Compute the transpose of the centralized data matrix X\n",
    "X_transpose = X_centered.T\n",
    "\n",
    "# Step 2: Multiply the centralized data matrix X by its transpose\n",
    "covariance_matrix = np.dot(X_centered, X_transpose)\n",
    "\n",
    "# Step 3: Divide the result by the number of samples minus 1\n",
    "covariance_matrix /= (x.shape[0] - 1)\n",
    "eigenvalues, eigenvectors = np.linalg.eig(covariance_matrix)\n",
    "\n",
    "# Step 4: Sort the eigenvectors based on eigenvalues\n",
    "print(eigenvalues)\n",
    "print\n",
    "sorted_indices = np.argsort(eigenvalues)[::-1]\n",
    "sorted_eigenvalues = eigenvalues[sorted_indices]\n",
    "sorted_eigenvectors = eigenvectors[:, sorted_indices]\n",
    "\n",
    "# Step 5: Create matrix U using sorted eigenvectors\n",
    "U = sorted_eigenvectors\n",
    "print(U.shape)\n",
    "# print(U)\n",
    "# covariance_matrix now contains the covariance matrix S\n"
   ]
  },
  {
   "cell_type": "markdown",
   "metadata": {},
   "source": []
  },
  {
   "cell_type": "code",
   "execution_count": 7,
   "metadata": {},
   "outputs": [
    {
     "name": "stdout",
     "output_type": "stream",
     "text": [
      "tis is te MSE 0\n"
     ]
    },
    {
     "name": "stderr",
     "output_type": "stream",
     "text": [
      "C:\\Users\\dell\\AppData\\Local\\Temp\\ipykernel_26016\\328322248.py:5: ComplexWarning: Casting complex values to real discards the imaginary part\n",
      "  print(\"tis is te MSE\" , int(mse))\n"
     ]
    }
   ],
   "source": [
    "Y = np.dot(U.T, X_centered)\n",
    "recontrucrt_x = np.dot(U, Y)\n",
    "# print(recontrucrt_x[0])\n",
    "mse = ((X_centered- recontrucrt_x) ** 2).mean(axis=None)\n",
    "print(\"tis is te MSE\" , int(mse))"
   ]
  },
  {
   "cell_type": "code",
   "execution_count": null,
   "metadata": {},
   "outputs": [],
   "source": [
    "import numpy as np\n",
    "import matplotlib.pyplot as plt\n",
    "\n",
    "# Function to plot images\n",
    "def plot_images(indices, reshaped_X):\n",
    "    for i in indices:\n",
    "        mean_image = reshaped_X[i]\n",
    "        plt.imshow(mean_image, cmap='gray')\n",
    "        plt.title(f'Image {i + 1}')\n",
    "        plt.show(2)\n",
    "\n",
    "# Assuming U, X_centered, and Y are defined correctly\n",
    "U_p = U[:, :10]\n",
    "\n",
    "# Reconstruct data using the reduced principal components\n",
    "Y_p = np.dot(U_p.T, X_centered)  # Projection onto the reduced subspace\n",
    "x_reconstructed = np.dot(U_p, Y_p) + X_centered.mean(axis=0)  # Reconstruction\n",
    "\n",
    "# Reshape for plotting (assuming 28x28 images)\n",
    "reshaped_X = np.abs(x_reconstructed.reshape(-1, 28, 28))  # Ensure non-negative values\n",
    "\n",
    "# Plot images for different ranges of indices\n",
    "for start_idx in range(0, 1000, 100):\n",
    "    end_idx = start_idx + 5\n",
    "    plot_images(range(start_idx, end_idx), reshaped_X)\n"
   ]
  },
  {
   "cell_type": "code",
   "execution_count": 9,
   "metadata": {},
   "outputs": [
    {
     "name": "stdout",
     "output_type": "stream",
     "text": [
      "\n",
      "For p = 5:\n",
      "Overall Accuracy: 73.6100\n",
      "Per-Class Accuracy:\n",
      "  Class 0: 90.31%\n",
      "  Class 1: 94.54%\n",
      "  Class 2: 68.12%\n",
      "  Class 3: 73.07%\n",
      "  Class 4: 66.60%\n",
      "  Class 5: 70.29%\n",
      "  Class 6: 75.99%\n",
      "  Class 7: 77.04%\n",
      "  Class 8: 69.61%\n",
      "  Class 9: 47.87%\n",
      "\n",
      "For p = 10:\n",
      "Overall Accuracy: 89.6200\n",
      "Per-Class Accuracy:\n",
      "  Class 0: 95.71%\n",
      "  Class 1: 97.62%\n",
      "  Class 2: 91.28%\n",
      "  Class 3: 87.92%\n",
      "  Class 4: 87.27%\n",
      "  Class 5: 86.77%\n",
      "  Class 6: 95.09%\n",
      "  Class 7: 89.11%\n",
      "  Class 8: 84.70%\n",
      "  Class 9: 79.58%\n",
      "\n",
      "For p = 20:\n",
      "Overall Accuracy: 95.6900\n",
      "Per-Class Accuracy:\n",
      "  Class 0: 98.37%\n",
      "  Class 1: 97.36%\n",
      "  Class 2: 97.00%\n",
      "  Class 3: 95.84%\n",
      "  Class 4: 96.23%\n",
      "  Class 5: 95.07%\n",
      "  Class 6: 96.87%\n",
      "  Class 7: 93.48%\n",
      "  Class 8: 93.94%\n",
      "  Class 9: 92.57%\n",
      "\n",
      "For p = 50:\n",
      "Overall Accuracy: 97.3900\n",
      "Per-Class Accuracy:\n",
      "  Class 0: 98.88%\n",
      "  Class 1: 96.83%\n",
      "  Class 2: 97.67%\n",
      "  Class 3: 97.23%\n",
      "  Class 4: 98.68%\n",
      "  Class 5: 98.32%\n",
      "  Class 6: 96.97%\n",
      "  Class 7: 96.01%\n",
      "  Class 8: 98.05%\n",
      "  Class 9: 95.54%\n",
      "\n",
      "For p = 100:\n",
      "Overall Accuracy: 97.8300\n",
      "Per-Class Accuracy:\n",
      "  Class 0: 99.08%\n",
      "  Class 1: 96.56%\n",
      "  Class 2: 97.87%\n",
      "  Class 3: 97.62%\n",
      "  Class 4: 98.68%\n",
      "  Class 5: 98.32%\n",
      "  Class 6: 97.81%\n",
      "  Class 7: 97.18%\n",
      "  Class 8: 98.87%\n",
      "  Class 9: 96.63%\n"
     ]
    }
   ],
   "source": [
    "import numpy as np\n",
    "from sklearn.discriminant_analysis import QuadraticDiscriminantAnalysis\n",
    "from sklearn.decomposition import PCA\n",
    "\n",
    "Y_test = np.load('y_test.npy', allow_pickle=True)   # Load the y_test.npy file with allow_pickle=True\n",
    "X_test = np.load('x_test.npy', allow_pickle=True).reshape(-1, 784)   # Load the x_test.npy file with allow_pickle=True   \n",
    "\n",
    "# Define the range of p values to try\n",
    "p_values = [5, 10, 20, 50, 100]\n",
    "\n",
    "# Initialize dictionary to store accuracies for each value of p\n",
    "accuracies = {}\n",
    "\n",
    "# Create QDA classifier object\n",
    "qda = QuadraticDiscriminantAnalysis()\n",
    "\n",
    "# Loop over different values of p\n",
    "for p in p_values:\n",
    "    # Apply PCA on the test set to obtain reduced feature matrix Y_test\n",
    "    pca = PCA(n_components=p)\n",
    "    Y_test_reduced = pca.fit_transform(X_test)\n",
    "    \n",
    "    # Train the QDA classifier\n",
    "    qda.fit(Y_test_reduced, Y_test)\n",
    "    \n",
    "    # Make predictions\n",
    "    y_pred = qda.predict(Y_test_reduced)\n",
    "    \n",
    "    # Compute overall accuracy\n",
    "    accuracy = np.mean(Y_test == y_pred)\n",
    "    \n",
    "    # Compute per-class accuracy\n",
    "    class_accuracies = {}\n",
    "    for class_label in range(10):\n",
    "        class_indices = (Y_test == class_label)\n",
    "        class_y_true = Y_test[class_indices]\n",
    "        class_y_pred = y_pred[class_indices]\n",
    "        class_accuracy = np.mean(class_y_true == class_y_pred)\n",
    "        class_accuracies[class_label] = class_accuracy\n",
    "    \n",
    "    # Store accuracies for the current value of p\n",
    "    accuracies[p] = {\n",
    "        'overall_accuracy': accuracy,\n",
    "        'per_class_accuracy': class_accuracies\n",
    "    }\n",
    "\n",
    "# Print accuracy report for all values of p\n",
    "for p, acc in accuracies.items():\n",
    "    print(f\"\\nFor p = {p}:\")\n",
    "    print(f\"Overall Accuracy: {acc['overall_accuracy']*100:.4f}\")\n",
    "    print(\"Per-Class Accuracy:\")\n",
    "    for class_label, class_acc in acc['per_class_accuracy'].items():\n",
    "        print(f\"  Class {class_label}: {class_acc * 100:.2f}%\")\n"
   ]
  }
 ],
 "metadata": {
  "kernelspec": {
   "display_name": "Python 3",
   "language": "python",
   "name": "python3"
  },
  "language_info": {
   "codemirror_mode": {
    "name": "ipython",
    "version": 3
   },
   "file_extension": ".py",
   "mimetype": "text/x-python",
   "name": "python",
   "nbconvert_exporter": "python",
   "pygments_lexer": "ipython3",
   "version": "3.11.5"
  }
 },
 "nbformat": 4,
 "nbformat_minor": 2
}
