{
 "cells": [
  {
   "cell_type": "code",
   "execution_count": 1,
   "metadata": {},
   "outputs": [
    {
     "name": "stdout",
     "output_type": "stream",
     "text": [
      "(12665, 784)\n",
      "[[0. 0. 0. ... 0. 0. 0.]\n",
      " [0. 0. 0. ... 0. 0. 0.]\n",
      " [0. 0. 0. ... 0. 0. 0.]\n",
      " ...\n",
      " [0. 0. 0. ... 0. 0. 0.]\n",
      " [0. 0. 0. ... 0. 0. 0.]\n",
      " [0. 0. 0. ... 0. 0. 0.]]\n",
      "(4923, 784)\n",
      "(2000, 784)\n",
      "(10665, 784)\n",
      "(2000,)\n",
      "(784, 5)\n",
      "Shape of reduced training data: (10665, 5)\n",
      "Shape of reduced validation data: (2000, 5)\n"
     ]
    }
   ],
   "source": [
    "import numpy as np\n",
    "import pandas as pd\n",
    "\n",
    "# Loading dataset\n",
    "mnist_data = np.load('mnist.npz')\n",
    "X_train = mnist_data['x_train']\n",
    "Y_train = mnist_data['y_train']\n",
    "X_test = mnist_data['x_test']\n",
    "Y_test = mnist_data['y_test']\n",
    "\n",
    "# Same as Q1\n",
    "is_class_01 = (Y_train == 0) | (Y_train == 1)\n",
    "X_train = X_train[is_class_01]\n",
    "Y_train = Y_train[is_class_01]\n",
    "\n",
    "is_class_02 = (Y_test == 0) | (Y_test == 1)\n",
    "X_test = X_test[is_class_02]\n",
    "Y_test = Y_test[is_class_02]\n",
    "\n",
    "# normalize them\n",
    "X_train = X_train.reshape(-1, 28 * 28) / 255.0\n",
    "X_test = X_test.reshape(-1, 28 * 28) / 255.0\n",
    "print(X_train.shape)\n",
    "\n",
    "# Relabelling\n",
    "Y_train = np.where(Y_train==0,-1,1)\n",
    "Y_test = np.where(Y_test == 0,-1,1)\n",
    "\n",
    "# Splitting into the training set into training and validation sets\n",
    "num_samples_class_0 = 1000\n",
    "num_samples_class_1 = 1000\n",
    "\n",
    "X_train_class_0 = X_train[Y_train == -1]\n",
    "Y_train_class_0 = Y_train[Y_train == -1]\n",
    "\n",
    "X_train_class_1 = X_train[Y_train == 1]\n",
    "Y_train_class_1 = Y_train[Y_train == 1]\n",
    "\n",
    "print(X_train_class_0)\n",
    "X_train_val = np.vstack((X_train_class_0[:num_samples_class_0], X_train_class_1[:num_samples_class_1]))\n",
    "Y_train_val = np.hstack((Y_train_class_0[:num_samples_class_0], Y_train_class_1[:num_samples_class_1]))\n",
    "\n",
    "\n",
    "X_train = np.vstack((X_train_class_0[num_samples_class_0:], X_train_class_1[num_samples_class_1:]))\n",
    "Y_train = np.hstack((Y_train_class_0[num_samples_class_0:], Y_train_class_1[num_samples_class_1:]))\n",
    "\n",
    "print(X_train_class_0[num_samples_class_0:].shape)\n",
    "print(X_train_val.shape)\n",
    "print(X_train.shape)\n",
    "print(Y_train_val.shape)\n",
    "\n",
    "mean_vector = np.mean(X_train, axis=0)\n",
    "mean_vector1 = np.mean(X_test, axis=0)\n",
    "\n",
    "cov_matrix = np.cov((X_train - mean_vector).T)\n",
    "cov_matrix1 = np.cov((X_test - mean_vector1).T)\n",
    "\n",
    "eigenvalues, eigenvectors = np.linalg.eigh(cov_matrix)\n",
    "eigenvalues1, eigenvectors1 = np.linalg.eigh(cov_matrix1)\n",
    "\n",
    "sorted_indices = np.argsort(eigenvalues)[::-1]\n",
    "top_p_indices = sorted_indices[:5]\n",
    "sorted_indices1 = np.argsort(eigenvalues1)[::-1]\n",
    "top_p_indices1 = sorted_indices1[:5]\n",
    "\n",
    "pca_matrix = eigenvectors[:, top_p_indices]\n",
    "pca_matrix1 = eigenvectors1[:, top_p_indices1]\n",
    "\n",
    "print(pca_matrix.shape)\n",
    "X_train_pca = np.dot(X_train - mean_vector, pca_matrix)\n",
    "X_val_pca = np.dot(X_train_val - mean_vector, pca_matrix)\n",
    "\n",
    "print(\"Shape of reduced training data:\", X_train_pca.shape)\n",
    "print(\"Shape of reduced validation data:\", X_val_pca.shape)\n"
   ]
  },
  {
   "cell_type": "code",
   "execution_count": 2,
   "metadata": {},
   "outputs": [
    {
     "name": "stdout",
     "output_type": "stream",
     "text": [
      "Dimension 1 in training data: [-9.14050887 -9.12628801 -8.98098105 ...  4.42735384  4.46459577\n",
      "  4.4702065 ]\n",
      "Dimension 2 in training data: [-6.06722951 -5.9901054  -5.54732112 ...  3.79543166  3.85617239\n",
      "  3.90544954]\n",
      "Dimension 3 in training data: [-5.56645578 -5.49364676 -5.47483353 ...  4.95061807  5.00174571\n",
      "  5.00814084]\n",
      "Dimension 4 in training data: [-5.31601761 -5.31149254 -5.22410596 ...  4.88780727  4.9698394\n",
      "  5.09538818]\n",
      "Dimension 5 in training data: [-3.6491333  -3.59755316 -3.57806115 ...  4.64196635  4.65935191\n",
      "  5.42137539]\n",
      "Dimension 1 in validation data: [-8.96990919 -8.59099587 -8.47369653 ...  4.32894399  4.3445438\n",
      "  4.3650654 ]\n",
      "Dimension 2 in validation data: [-5.18271121 -4.98273991 -4.97617406 ...  3.61741336  3.78122422\n",
      "  3.84658567]\n",
      "Dimension 3 in validation data: [-5.72106446 -5.32494584 -5.29495264 ...  4.82954624  4.8421774\n",
      "  4.93588225]\n",
      "Dimension 4 in validation data: [-5.33371114 -5.32356401 -5.19678641 ...  4.21573374  4.25409641\n",
      "  4.28758238]\n",
      "Dimension 5 in validation data: [-3.53086225 -3.48735364 -3.44431312 ...  3.64003466  3.83711548\n",
      "  4.03330041]\n"
     ]
    }
   ],
   "source": [
    "#  Finding unique values and sorting them for the dimension\n",
    "\n",
    "unique_sorted_values_train = [np.sort(np.unique(X_train_pca[:, i])) for i in range(X_train_pca.shape[1])]\n",
    "unique_sorted_values_val = [np.sort(np.unique(X_val_pca[:, i])) for i in range(X_val_pca.shape[1])]\n",
    "\n",
    "for i, values in enumerate(unique_sorted_values_train):\n",
    "    print(f\"Dimension {i+1} in training data:\", values)\n",
    "\n",
    "for i, values in enumerate(unique_sorted_values_val):\n",
    "    print(f\"Dimension {i+1} in validation data:\", values)\n"
   ]
  },
  {
   "cell_type": "code",
   "execution_count": 3,
   "metadata": {},
   "outputs": [
    {
     "name": "stdout",
     "output_type": "stream",
     "text": [
      "Best split: 0, Best split value: 0.7445328110204548\n"
     ]
    }
   ],
   "source": [
    "#  Calculate Sum of Squared Residuals (SSR)\n",
    "def calculate_ssr(y, y_left, y_right):\n",
    "    ssr_right = np.sum((y_right - np.mean(y_right))**2)\n",
    "    ssr_left = np.sum((y_left - np.mean(y_left))**2)\n",
    "\n",
    "    return ssr_left + ssr_right\n",
    "\n",
    "def find_best_split(X, y):\n",
    "\n",
    "    best_split_feature = None\n",
    "    best_ssr = float('inf')\n",
    "    best_split_value = None\n",
    "    \n",
    "    for feature in range(X.shape[1]):\n",
    "        unique_values = np.sort(np.unique(X[:, feature]))\n",
    "        midpoints = (unique_values[:-1] + unique_values[1:]) / 2\n",
    "        \n",
    "        for value in midpoints:\n",
    "            left_indices = X[:, feature] <= value\n",
    "            right_indices = X[:, feature] > value\n",
    "            \n",
    "            y_left = y[left_indices]\n",
    "            y_right = y[right_indices]\n",
    "            \n",
    "            ssr = calculate_ssr(y, y_left, y_right)\n",
    "            \n",
    "            if ssr < best_ssr:\n",
    "                best_ssr = ssr\n",
    "\n",
    "                best_split_value = value\n",
    "                best_split_feature = feature\n",
    "                \n",
    "    return best_split_feature, best_split_value\n",
    "\n",
    "# Decision stump\n",
    "best_split_feature, best_split_value = find_best_split(X_train_pca, Y_train)\n",
    "\n",
    "print(f\"Best split: {best_split_feature}, Best split value: {best_split_value}\")\n"
   ]
  },
  {
   "cell_type": "code",
   "execution_count": 4,
   "metadata": {},
   "outputs": [
    {
     "name": "stdout",
     "output_type": "stream",
     "text": [
      "Residue for training set: [-1.01 -1.01 -1.01 -1.01 -1.01 -1.01 -1.01 -1.01 -1.01 -1.01]\n",
      "Residue for validation set: [-1.01 -1.01 -1.01 -1.01 -1.01 -1.01 -1.01 -1.01 -1.01 -1.01]\n"
     ]
    }
   ],
   "source": [
    "# Calculate predictions h1(x) for the best split\n",
    "def predict_split(X, feature, value):\n",
    "    return X[:, feature] <= value\n",
    "\n",
    "predictions_train = predict_split(X_train_pca, best_split_feature, best_split_value)\n",
    "predictions_val = predict_split(X_val_pca, best_split_feature, best_split_value)\n",
    "\n",
    "residue_train = Y_train - 0.01 * predictions_train\n",
    "residue_val = Y_train_val - 0.01 * predictions_val\n",
    "\n",
    "print(\"Residue for training set:\", residue_train[:10])\n",
    "print(\"Residue for validation set:\", residue_val[:10])\n"
   ]
  },
  {
   "cell_type": "code",
   "execution_count": 5,
   "metadata": {},
   "outputs": [
    {
     "name": "stdout",
     "output_type": "stream",
     "text": [
      "Residues for validation set after 300 stumps: [-1.2 -1.2 -1.2 -1.2 -1.2 -1.2 -1.2 -1.2 -1.2 -1.2 -1.2 -1.2 -1.2 -1.2\n",
      " -1.2 -1.2 -1.2 -1.2 -1.2 -1.2]\n",
      "Residues for training set after 300 stumps: [-1.2 -1.2 -1.2 -1.2 -1.2 -1.2 -1.2 -1.2 -1.2 -1.2 -1.2 -1.2 -1.2 -1.2\n",
      " -1.2 -1.2 -1.2 -1.2 -1.2 -1.2]\n"
     ]
    }
   ],
   "source": [
    "def update_residue(y, predictions, learning_rate=0.01):\n",
    "    return y - learning_rate * predictions\n",
    "\n",
    "stumps = []\n",
    "residues_val = []\n",
    "residues_train = []\n",
    "\n",
    "# Taking the initial residue \n",
    "current_residue_train = Y_train.copy()\n",
    "current_residue_val = Y_train_val.copy()\n",
    "\n",
    "for i in range(20):\n",
    "    best_split_feature, best_split_value = find_best_split(X_train_pca, current_residue_train)\n",
    "    \n",
    "    predictions_train = predict_split(X_train_pca, best_split_feature, best_split_value)\n",
    "    \n",
    "    predictions_val = predict_split(X_val_pca, best_split_feature, best_split_value)\n",
    "    \n",
    "    stumps.append((best_split_feature, best_split_value))\n",
    "    \n",
    "    current_residue_train = update_residue(current_residue_train, predictions_train)\n",
    "    current_residue_val = update_residue(current_residue_val, predictions_val)\n",
    "    \n",
    "    residues_train.append(current_residue_train.copy())\n",
    "    residues_val.append(current_residue_val.copy())\n",
    "\n",
    "    # Printing each iteration\n",
    "    if (i+1) % 50 == 0:\n",
    "        print(f\"Iteration {i+1}/300 completed\")\n",
    "\n",
    "residues_val = np.array(residues_val)\n",
    "residues_train = np.array(residues_train)\n",
    "\n",
    "print(\"Residues for validation set after 300 stumps:\", residues_val[-1][:20])\n",
    "\n",
    "print(\"Residues for training set after 300 stumps:\", residues_train[-1][:20])\n",
    "\n",
    "import matplotlib.pyplot as plt\n",
    "\n",
    "# MSE Calculation\n",
    "def compute_mse(y_true, y_pred):\n",
    "    return np.mean((y_true - y_pred) ** 2)\n",
    "\n",
    "# Compute MSE on validation set after each iteration\n",
    "mse_val = [compute_mse(Y_train_val, residue) for residue in residues_val]\n",
    "mse_val = mse_val[::-1]\n"
   ]
  },
  {
   "cell_type": "code",
   "execution_count": 6,
   "metadata": {},
   "outputs": [
    {
     "data": {
      "image/png": "[encoded data removed]",
      "text/plain": [
       "<Figure size 1000x600 with 1 Axes>"
      ]
     },
     "metadata": {},
     "output_type": "display_data"
    },
    {
     "name": "stdout",
     "output_type": "stream",
     "text": [
      "Test MSE for the best stump: 0.9986342789598108\n"
     ]
    }
   ],
   "source": [
    "\n",
    "\n",
    "\n",
    "# Plot MSE on validation set vs. number of trees\n",
    "plt.figure(figsize=(10, 6))\n",
    "plt.plot(range(1, 21), mse_val, marker='o', linestyle='-')\n",
    "plt.title('MSE on Validation Set vs. Number of Trees')\n",
    "plt.xlabel('Number of Trees')\n",
    "plt.ylabel('MSE on Validation Set')\n",
    "plt.grid(True)\n",
    "plt.show()\n",
    "\n",
    "# Identify the tree with the lowest MSE\n",
    "best_tree_idx = np.argmin(mse_val)\n",
    "best_stump = stumps[best_tree_idx]\n",
    "\n",
    "# Evaluate the best tree on the test set\n",
    "def evaluate_stump(X, stump):\n",
    "    feature, value = stump\n",
    "    predictions = predict_split(X, feature, value)\n",
    "    # 0.01 learning rate\n",
    "    return 0.01 * predictions  \n",
    "\n",
    "predictions_test = evaluate_stump(X_test, best_stump)\n",
    "\n",
    "# Test MSE\n",
    "mse_test = compute_mse(Y_test, predictions_test)\n",
    "\n",
    "print(f\"Test MSE for the best stump: {mse_test}\")\n"
   ]
  }
 ],
 "metadata": {
  "kernelspec": {
   "display_name": "Python 3",
   "language": "python",
   "name": "python3"
  },
  "language_info": {
   "codemirror_mode": {
    "name": "ipython",
    "version": 3
   },
   "file_extension": ".py",
   "mimetype": "text/x-python",
   "name": "python",
   "nbconvert_exporter": "python",
   "pygments_lexer": "ipython3",
   "version": "3.12.1"
  }
 },
 "nbformat": 4,
 "nbformat_minor": 2
}
